{
  "nbformat": 4,
  "nbformat_minor": 0,
  "metadata": {
    "colab": {
      "name": "final.ipynb",
      "provenance": []
    },
    "kernelspec": {
      "name": "python3",
      "display_name": "Python 3"
    },
    "language_info": {
      "name": "python"
    }
  },
  "cells": [
    {
      "cell_type": "code",
      "execution_count": 2,
      "metadata": {
        "id": "dzuWJR6xuioa"
      },
      "outputs": [],
      "source": [
        "import pandas as pd\n",
        "import numpy as np\n",
        "from google.colab.patches import cv2_imshow\n",
        "from matplotlib import pyplot as plt\n",
        "from sklearn.model_selection import train_test_split\n",
        "import keras\n",
        "import tensorflow as tf\n",
        "import cv2\n",
        "from keras.models import Sequential, load_model\n",
        "from keras.layers import Dense, Dropout, Flatten, Activation\n",
        "from keras.layers import Conv2D, MaxPooling2D, BatchNormalization\n",
        "from keras import backend as K\n",
        "from tensorflow.keras.utils import to_categorical\n"
      ]
    },
    {
      "cell_type": "code",
      "source": [
        "model = keras.models.load_model(\"mcombo.h5\")"
      ],
      "metadata": {
        "id": "wBuabBfGunND"
      },
      "execution_count": null,
      "outputs": []
    },
    {
      "cell_type": "code",
      "source": [
        "def prepro(gray):\n",
        "    cv2_imshow(gray)\n",
        "    kernel = np.ones((3,3), np.uint8)\n",
        "    gray= cv2.erode(gray, kernel, iterations=1)\n",
        "    # gray= cv2.dilate(gray, kernel, iterations=1)\n",
        "    # cv2_imshow(gray)\n",
        "    blur=cv2.GaussianBlur(gray,(5,5),2)\n",
        "    ret, thresh = cv2.threshold(blur, 0, 255, cv2.THRESH_BINARY+cv2.THRESH_OTSU)\n",
        "    cv2_imshow(thresh)\n",
        "    \n",
        "    print(thresh.shape)\n",
        "    h=thresh.shape[0]\n",
        "    w=thresh.shape[1]\n",
        "    prev=0\n",
        "    cont=0\n",
        "    v=[]\n",
        "    for i in range(0,w):\n",
        "        x=0\n",
        "        for j in range(0,h):\n",
        "             if(thresh[j][i]==0):\n",
        "                 x+=1\n",
        "        if(x==0 and cont==1):\n",
        "            if(i-prev<10):\n",
        "               cont=0\n",
        "            else:\n",
        "                  cont=0\n",
        "                  v.append((prev,i))\n",
        "        elif(x>0 and cont==0):\n",
        "              prev=i\n",
        "              cont=1\n",
        "    \n",
        "    # for x in v:\n",
        "    #     cv2.line(img,(x[0],0),(x[0],h-1),(255,0,0),3)\n",
        "    #     cv2.line(img,(x[1],0),(x[1],h-1),(255,0,0),3)\n",
        "    \n",
        "    prev=0        \n",
        "    u=[]\n",
        "    for x in v:\n",
        "          s=x[0]\n",
        "          e=x[1]\n",
        "          cont=0\n",
        "          for i in range(0,h):\n",
        "               z=0\n",
        "               for j in range(s,e+1):\n",
        "                   if(thresh[i][j]==0):\n",
        "                       z+=1\n",
        "               if(z>0 and cont==0):\n",
        "                    prev=i\n",
        "                    cont=1\n",
        "               elif(z==0 and cont==1):\n",
        "                    if(i-prev<10):\n",
        "                         cont=0\n",
        "                    else:\n",
        "                      u.append((prev,i))\n",
        "                      break\n",
        "    print(v)\n",
        "    print(u)\n",
        "    v2=[]\n",
        "    u2=[]\n",
        "    i=0\n",
        "    while i<len(v)-1:\n",
        "          if(v[i+1][0]-v[i][1]<3):\n",
        "               v2.append((v[i][0],v[i+1][1]))\n",
        "               u2.append((min(u[i][0],u[i+1][0]),max(u[i][1],u[i+1][1])))\n",
        "               i+=2\n",
        "          else:\n",
        "             v2.append(v[i])\n",
        "             u2.append(u[i])\n",
        "             i+=1\n",
        "    if(i==len(v)-1):\n",
        "        v2.append(v[-1])\n",
        "        u2.append(u[-1])\n",
        "    \n",
        "    st_list=[]\n",
        "    end_list=[]\n",
        "    for i in range(len(v2)):\n",
        "       if((v2[i][1]-v2[i][0])>30 and u2[i][1]-u2[i][0]>30):\n",
        "           cv2.rectangle(img,(v2[i][0],u2[i][0]),(v2[i][1],u2[i][1]),(255,0,0),3)\n",
        "           st_list.append((u2[i][0],v2[i][0]))\n",
        "           end_list.append((u2[i][1],v2[i][1]))\n",
        "    cv2_imshow(img)    \n",
        "    return thresh,st_list,end_list\n",
        "    "
      ],
      "metadata": {
        "id": "0L4VgTb4upP_"
      },
      "execution_count": null,
      "outputs": []
    },
    {
      "cell_type": "code",
      "source": [
        "classes = \"1,2,3,4,5,6,7,A,B,d,e,g,G,Z,W,H,I,J,R,t,K,M,S,N,X,b\"\n",
        "index =   \"1,2,3,4,5,6,7,10,11,38,39,41,16,35,32,17,18,19,27,46,20,22,28,23,33,37\"\n",
        "values = classes.split(',')\n",
        "keys = index.split(',')\n",
        "map = dict(zip(keys, values))\n",
        "img = cv2.imread('test9.jpeg')\n",
        "gray = cv2.cvtColor(img, cv2.COLOR_BGR2GRAY)\n",
        "img2,st,end=prepro(gray)"
      ],
      "metadata": {
        "id": "A58kF45dusZk"
      },
      "execution_count": null,
      "outputs": []
    },
    {
      "cell_type": "code",
      "source": [
        "fans=''\n",
        "for i in range(len(st)):\n",
        "      eximg=img2[st[i][0]:end[i][0],st[i][1]:end[i][1]]\n",
        "      eximg=cv2.copyMakeBorder(eximg,40,40,40,40,cv2.BORDER_CONSTANT,value=(255,255,255))\n",
        "      kernel = np.ones((5, 5), np.uint8)\n",
        "      eximg2=cv2.dilate(eximg,kernel,10)\n",
        "      cv2_imshow(eximg2) \n",
        "      eximg=eximg/255\n",
        "      eximg=cv2.resize(eximg,(28,28))\n",
        "      ans=model.predict(eximg.reshape(-1,28,28,1))\n",
        "      prediction = ans.argmax(axis=1)\n",
        "      conf=np.max(ans)\n",
        "      print(prediction,conf)\n",
        "      fans+=map[str(prediction[0])]\n",
        "\n",
        "print(fans)"
      ],
      "metadata": {
        "id": "OhbUqwlHuv2z"
      },
      "execution_count": null,
      "outputs": []
    }
  ]
}